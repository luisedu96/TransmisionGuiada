{
  "nbformat": 4,
  "nbformat_minor": 0,
  "metadata": {
    "colab": {
      "name": "Actividadpropagacionelec.ipynb",
      "provenance": [],
      "collapsed_sections": [],
      "authorship_tag": "ABX9TyMPixJAd1c1KTnYW8SFmH8T",
      "include_colab_link": true
    },
    "kernelspec": {
      "name": "python3",
      "display_name": "Python 3"
    }
  },
  "cells": [
    {
      "cell_type": "markdown",
      "metadata": {
        "id": "view-in-github",
        "colab_type": "text"
      },
      "source": [
        "<a href=\"https://colab.research.google.com/github/luisedu96/TransmisionGuiada/blob/master/Actividades/Actividadpropagacionelec.ipynb\" target=\"_parent\"><img src=\"https://colab.research.google.com/assets/colab-badge.svg\" alt=\"Open In Colab\"/></a>"
      ]
    },
    {
      "cell_type": "markdown",
      "metadata": {
        "id": "Ay2jF57j43yZ"
      },
      "source": [
        "#**Propagación Dielétrica**"
      ]
    },
    {
      "cell_type": "markdown",
      "metadata": {
        "id": "-i1iy8zt5-z8"
      },
      "source": [
        "#### 1. Onda incidente y la onda reflejada empleando teoría de rayos"
      ]
    },
    {
      "cell_type": "markdown",
      "metadata": {
        "id": "-PO_mYkm79jn"
      },
      "source": [
        "<img src=http://upload.wikimedia.org/wikipedia/commons/thumb/2/2f/Ley_de_Snell_%28es%29.svg/243px-Ley_de_Snell_%28es%29.svg.png>"
      ]
    },
    {
      "cell_type": "code",
      "metadata": {
        "id": "HujxsMEH6Krr",
        "cellView": "form"
      },
      "source": [
        "n1 =   1#@param {type: \"number\"}\n",
        "n2 = 1.45  #@param {type: \"number\"}\n",
        "#θ1 = 6  #@param {type: \"slider\", min: 0, max: 90}\n",
        "θ1 = 55.3 #@param {type:\"slider\", min:0, max:90, step:0.1}"
      ],
      "execution_count": 114,
      "outputs": []
    },
    {
      "cell_type": "code",
      "metadata": {
        "id": "xU6Yvk0X9Xrf",
        "outputId": "87e6c2d5-dbc3-4a4d-84dc-78ac401e00aa",
        "colab": {
          "base_uri": "https://localhost:8080/",
          "height": 535
        }
      },
      "source": [
        "import matplotlib.patches as mpatches\n",
        "import matplotlib.pyplot as plt\n",
        "import numpy as np\n",
        "\n",
        "ai=θ1*(np.pi/180)\n",
        "arfx=ai\n",
        "if (n1>n2):\n",
        "  ang_critico=np.arcsin(n2/n1)\n",
        "  ac_text = 'Ángulo crítico: {:.1f}°'.format(ang_critico*(180/np.pi))\n",
        "  brews = 'Angulo brewster: No aplica'\n",
        "  yrfx = np.sin(np.pi/2-arfx)\n",
        "  xrfx = np.cos(np.pi/2-arfx)\n",
        "  rtm=(n2*np.cos(ai)-n1*np.cos(at))/(n2*np.cos(ai)+n1*np.cos(at))\n",
        "  Rtm=(np.abs(rtm))**2\n",
        "  Ttm=1-Rtm\n",
        "  angcolorr='red'\n",
        "  if (ai>ang_critico):\n",
        "    at=np.pi/2\n",
        "    angcolor='white'\n",
        "    at_text = 'Ángulo transmitido: No aplica'\n",
        "    yr=0\n",
        "    xr=0\n",
        "  else:\n",
        "    at=np.arcsin((n1*np.sin(ai))/n2)\n",
        "    angcolor='blue'\n",
        "    at_text = 'Ángulo transmitido: {:.1f}°'.format(at*180/np.pi)\n",
        "    yr = np.sin(-np.pi/2+at)\n",
        "    xr = np.cos(-np.pi/2+at)    \n",
        "\n",
        "else:\n",
        "  at = np.arcsin((n1*np.sin(ai))/n2)\n",
        "  yrfx = np.sin(np.pi/2-arfx)\n",
        "  xrfx = np.cos(np.pi/2-arfx)\n",
        "  rtm=(n2*np.cos(ai)-n1*np.cos(at))/(n2*np.cos(ai)+n1*np.cos(at))\n",
        "  Rtm=(np.abs(rtm))**2\n",
        "  Ttm=1-Rtm\n",
        "  angcolor='blue'\n",
        "  rwev=round(Ttm,4)\n",
        "  if (round(Ttm,4)==1):\n",
        "    yrfx=0\n",
        "    xrfx=0\n",
        "    angcolorr='white'\n",
        "  else:\n",
        "    yrfx = np.sin(np.pi/2-arfx)\n",
        "    xrfx = np.cos(np.pi/2-arfx)\n",
        "    angcolorr='red'\n",
        "  yr = np.sin(-np.pi/2+at)\n",
        "  xr = np.cos(-np.pi/2+at)\n",
        "  ang_brewster= np.arctan(n2/n1)\n",
        "  at_text = 'Ángulo transmitido: {:.1f}°'.format(at*180/np.pi)\n",
        "  ac_text = 'Ángulo crítico: No aplica'\n",
        "  brews = 'Angulo brewster: {:.1f}°'.format(ang_brewster*180/np.pi)\n",
        "\n",
        "yi = np.sin(np.pi/2+ai)\n",
        "xi = np.cos(np.pi/2+ai)\n",
        "\n",
        "R='Coeficiente de Reflexión: {:.2f}%'.format(Rtm*100)\n",
        "T='Coeficiente de Transmisión: {:.2f}%'.format(Ttm*100)\n",
        "ar_text = 'Ángulo reflejado : {:.1f}°'.format(arfx*180/np.pi)\n",
        "ai_text = 'Ángulo incidencia : {:.1f}°'.format(ai*180/np.pi)\n",
        "tit_text =R+'\\n'+T+'\\n'+ ai_text +'\\n'+ar_text+'\\n'+ ac_text+'\\n'+brews+'\\n'+at_text \n",
        "\n",
        "fig, ax = plt.subplots(figsize=(7,7))\n",
        "\n",
        "material2=mpatches.Rectangle((-1.2, -1.2),2.4,1.2,facecolor = 'blue', alpha=0.2)\n",
        "material1=mpatches.Rectangle((-1.2, 0),2.4,1.2,facecolor = 'orange', alpha=0.2)\n",
        "wed_semi = mpatches.Wedge((0, 0), 0.6, 90, (ai*(180/np.pi)+90), color='orange', alpha=0.6)\n",
        "wed_cri = mpatches.Wedge((0, 0), 0.5, 270, (at*(180/np.pi)+270), color=angcolor, alpha=0.5)\n",
        "wed_semr = mpatches.Wedge((0, 0), 0.5, (90-arfx*(180/np.pi)),90, color=angcolorr, alpha=0.4)\n",
        "ax.add_patch(wed_semi)\n",
        "ax.add_patch(wed_cri)\n",
        "ax.add_patch(wed_semr)\n",
        "ax.add_patch(material2)\n",
        "ax.add_patch(material1)\n",
        "\n",
        "ax.quiver([xi], [yi],[-xi],[-yi], angles='xy', scale_units='xy', scale=1, color='r')\n",
        "ax.quiver([0], [0],[xr],[yr], angles='xy', scale_units='xy', scale=1, color='r')\n",
        "#ax.plot([xr,0],[yr,0],'r',lw=2)\n",
        "ax.quiver([0], [0],[xrfx],[yrfx], angles='xy', scale_units='xy', scale=1, color='r')\n",
        "ax.plot([-1.2,1.2],[0,0],'k')\n",
        "ax.plot([0,0],[1.2,-1.2],'k--')\n",
        "ax.axis([-1.2,1.2,-1.2,1.2])\n",
        "ax.set_title(tit_text, fontsize=14)\n",
        "ax.axis('off')\n",
        "fig.show()"
      ],
      "execution_count": 115,
      "outputs": [
        {
          "output_type": "display_data",
          "data": {
            "image/png": "[encoded data removed]",
            "text/plain": [
              "<Figure size 504x504 with 1 Axes>"
            ]
          },
          "metadata": {
            "tags": [],
            "needs_background": "light"
          }
        }
      ]
    },
    {
      "cell_type": "markdown",
      "metadata": {
        "id": "v4oJPnDZrNpD"
      },
      "source": [
        "####2. Diseño de un demultiplexor WDM empleando materiales dispersivos"
      ]
    },
    {
      "cell_type": "code",
      "metadata": {
        "id": "6TlykQeacNEI",
        "cellView": "form"
      },
      "source": [
        "n1 = 1.45  #@param {type: \"number\"}\n",
        "n2f1 = 1.3  #@param {type: \"number\"}\n",
        "n2f2 = 1.4  #@param {type: \"number\"}\n",
        "θ1 = 40  #@param {type: \"slider\", min: 0, max: 90}"
      ],
      "execution_count": 117,
      "outputs": []
    },
    {
      "cell_type": "code",
      "metadata": {
        "id": "P48wxqVTcemi",
        "outputId": "169a9f7c-95f2-471a-d001-a7e8aff7ab2b",
        "colab": {
          "base_uri": "https://localhost:8080/",
          "height": 646
        }
      },
      "source": [
        "import matplotlib.patches as mpatches\n",
        "import matplotlib.pyplot as plt\n",
        "import numpy as np\n",
        "\n",
        "ai=θ1*(np.pi/180)\n",
        "arfx=ai\n",
        "if (n1>n2f1):\n",
        "  ang_critico1=np.arcsin(n2f1/n1)\n",
        "  ac_text1 = 'Ángulo crítico Rayo azul: {:.1f}°'.format(ang_critico1*180/np.pi)\n",
        "  brews1 = 'Angulo brewster: No aplica'\n",
        "  yrfx1 = np.sin(np.pi/2-arfx)\n",
        "  xrfx1 = np.cos(np.pi/2-arfx)\n",
        "  rtm1=(n2f1*np.cos(ai)-n1*np.cos(at1))/(n2f1*np.cos(ai)+n1*np.cos(at1))\n",
        "  Rtm1=(np.abs(rtm1))**2\n",
        "  Ttm1=1-Rtm1\n",
        "  angcolorr1='red'\n",
        "  if (ai>ang_critico1):\n",
        "    at1=np.pi/2\n",
        "    angcolor1='white'\n",
        "    at_text1 = 'Ángulo transmitido Rayo azul: No aplica'\n",
        "    yr1=0\n",
        "    xr1=0\n",
        "  else:\n",
        "    at1=np.arcsin((n1*np.sin(ai))/n2f1)\n",
        "    angcolor1='blue'\n",
        "    at_text1 = 'Ángulo transmitido Rayo azul: {:.1f}°'.format(at1*180/np.pi)\n",
        "    yr1 = np.sin(-np.pi/2+at1)\n",
        "    xr1 = np.cos(-np.pi/2+at1)    \n",
        "\n",
        "elif (n1<=n2f1):\n",
        "  at1 = np.arcsin((n1*np.sin(ai))/n2f1)\n",
        "  yr1 = np.sin(-np.pi/2+at1)\n",
        "  xr1 = np.cos(-np.pi/2+at1)\n",
        "  rtm1=(n2f1*np.cos(ai)-n1*np.cos(at1))/(n2f1*np.cos(ai)+n1*np.cos(at1))\n",
        "  Rtm1=(np.abs(rtm1))**2\n",
        "  Ttm1=1-Rtm1\n",
        "  if (round(Ttm1,4)==1):\n",
        "    yrfx1=0\n",
        "    xrfx1=0\n",
        "    angcolorr1='white'\n",
        "  else:\n",
        "    yrfx1 = np.sin(np.pi/2-arfx)\n",
        "    xrfx1 = np.cos(np.pi/2-arfx)\n",
        "    angcolorr1='red'\n",
        "  ang_brewster1= np.arctan(n2f1/n1)\n",
        "  angcolor1='blue'\n",
        "  at_text1 = 'Ángulo transmitido Rayo azul: {:.1f}°'.format(at1*180/np.pi)\n",
        "  ac_text1 = 'Ángulo crítico Rayo azul: No aplica'\n",
        "  brews1 = 'Angulo brewster: {:.1f}°'.format(ang_brewster1*180/np.pi)\n",
        "\n",
        "if (n1>n2f2):\n",
        "  ang_critico2=np.arcsin(n2f2/n1)\n",
        "  ac_text2 = 'Ángulo crítico Rayo rojo: {:.1f}°'.format(ang_critico2*180/np.pi)\n",
        "  brews2 = 'Angulo brewster: No aplica'\n",
        "  yrfx2 = np.sin(np.pi/2-arfx)\n",
        "  xrfx2 = np.cos(np.pi/2-arfx)\n",
        "  rtm2=(n2f2*np.cos(ai)-n1*np.cos(at2))/(n2f2*np.cos(ai)+n1*np.cos(at2))\n",
        "  Rtm2=(np.abs(rtm2))**2\n",
        "  Ttm2=1-Rtm2\n",
        "  angcolorr2='red'\n",
        "  if (ai>ang_critico2):\n",
        "    at2=np.pi/2\n",
        "    angcolor2='white'\n",
        "    at_text2 = 'Ángulo transmitido Rayo rojo: No aplica'\n",
        "    yr2=0\n",
        "    xr2=0\n",
        "  else:\n",
        "    at2=np.arcsin((n1*np.sin(ai))/n2f2)\n",
        "    angcolor2='green'\n",
        "    at_text2 = 'Ángulo transmitido Rayo rojo: {:.1f}°'.format(at2*180/np.pi)\n",
        "    yr2 = np.sin(-np.pi/2+at2)\n",
        "    xr2 = np.cos(-np.pi/2+at2)    \n",
        "\n",
        "elif (n1<=n2f2):\n",
        "  at2 = np.arcsin((n1*np.sin(ai))/n2f2)\n",
        "  yr2 = np.sin(-np.pi/2+at2)\n",
        "  xr2 = np.cos(-np.pi/2+at2)\n",
        "  rtm2=(n2f2*np.cos(ai)-n1*np.cos(at2))/(n2f2*np.cos(ai)+n1*np.cos(at2))\n",
        "  Rtm2=(np.abs(rtm2))**2\n",
        "  Ttm2=1-Rtm2\n",
        "  if (round(Ttm2,2)==1):\n",
        "    yrfx2=0\n",
        "    xrfx2=0\n",
        "    angcolorr2='white'\n",
        "  else:\n",
        "    yrfx2 = np.sin(np.pi/2-arfx)\n",
        "    xrfx2 = np.cos(np.pi/2-arfx)\n",
        "    angcolorr2='red'\n",
        "  ang_brewster2= np.arctan(n2f2/n1)\n",
        "  angcolor2='green'\n",
        "  at_text2 = 'Ángulo transmitido Rayo rojo: {:.1f}°'.format(at2*180/np.pi)\n",
        "  ac_text2 = 'Ángulo crítico Rayo rojo: No aplica'\n",
        "  brews2 = 'Angulo brewster: {:.1f}°'.format(ang_brewster2*180/np.pi)\n",
        "\n",
        "yi1 = np.sin(np.pi/2+ai)\n",
        "xi1 = np.cos(np.pi/2+ai)\n",
        "\n",
        "yi2 = np.sin(np.pi/2+ai)\n",
        "xi2 = np.cos(np.pi/2+ai)\n",
        "\n",
        "R1='Coeficiente de Reflexión Rayo azul: {:.2f}%'.format(Rtm1*100)\n",
        "T1='Coeficiente de Transmisión Rayo azul: {:.2f}%'.format(Ttm1*100)\n",
        "R2='Coeficiente de Reflexión Rayo rojo: {:.2f}%'.format(Rtm2*100)\n",
        "T2='Coeficiente de Transmisión Rayo rojo: {:.2f}%'.format(Ttm2*100)\n",
        "ar_text = 'Ángulo reflejado: {:.1f}°'.format(arfx*180/np.pi)\n",
        "ai_text = 'Ángulo incidencia: {:.1f}°'.format(ai*180/np.pi)\n",
        "tit_text =ai_text +'\\n'+ar_text+'\\n'+' '+'\\n'+ac_text1 +'\\n'+brews1+'\\n'+at_text1+'\\n'+R1+'\\n'+T1+'\\n'+' '+'\\n'+ac_text2+'\\n'+brews2+'\\n'+at_text2+'\\n'+R2+'\\n'+T2\n",
        "print(tit_text)\n",
        "fig, ax = plt.subplots(figsize=(7,7))\n",
        "\n",
        "material2=mpatches.Rectangle((-1.2, -1.2),2.4,1.2,facecolor = 'blue', alpha=0.2)\n",
        "material1=mpatches.Rectangle((-1.2, 0),2.4,1.2,facecolor = 'orange', alpha=0.2)\n",
        "wed_semi = mpatches.Wedge((0, 0), 0.6, 90, (ai*(180/np.pi)+90), color='orange', alpha=0.6)\n",
        "wed_cri1 = mpatches.Wedge((0, 0), 0.5, 270, (at1*(180/np.pi)+270), color=angcolor1, alpha=0.5)\n",
        "wed_cri2 = mpatches.Wedge((0, 0), 0.6, 270, (at2*(180/np.pi)+270), color=angcolor2, alpha=0.6)\n",
        "wed_semr1 = mpatches.Wedge((0, 0), 0.5, (90-arfx*(180/np.pi)),90, color=angcolorr1, alpha=0.4)\n",
        "wed_semr2 = mpatches.Wedge((0, 0), 0.5, (90-arfx*(180/np.pi)),90, color=angcolorr2, alpha=0.4)\n",
        "ax.add_patch(wed_semi)\n",
        "ax.add_patch(wed_cri1)\n",
        "ax.add_patch(wed_cri2)\n",
        "ax.add_patch(wed_semr1)\n",
        "ax.add_patch(wed_semr2)\n",
        "ax.add_patch(material2)\n",
        "ax.add_patch(material1)\n",
        "\n",
        "ax.quiver([xi1-0.03], [yi1],[-xi1],[-yi1], angles='xy', scale_units='xy', scale=1, color='b')\n",
        "ax.quiver([0], [0],[xr1],[yr1], angles='xy', scale_units='xy', scale=1, color='b')\n",
        "ax.quiver([0-0.03], [0],[xrfx1],[yrfx1], angles='xy', scale_units='xy', scale=1, color='b')\n",
        "ax.quiver([xi2], [yi2],[-xi2],[-yi2], angles='xy', scale_units='xy', scale=1, color='r')\n",
        "ax.quiver([0], [0],[xr2],[yr2], angles='xy', scale_units='xy', scale=1, color='r')\n",
        "ax.quiver([0], [0],[xrfx2],[yrfx2], angles='xy', scale_units='xy', scale=1, color='r')\n",
        "ax.plot([-1.2,1.2],[0,0],'k')\n",
        "ax.plot([0,0],[1.2,-1.2],'k--')\n",
        "ax.axis([-1.2,1.2,-1.2,1.2])\n",
        "#ax.set_title(tit_text, fontsize=14)\n",
        "ax.axis('off')\n",
        "fig.show()"
      ],
      "execution_count": 122,
      "outputs": [
        {
          "output_type": "stream",
          "text": [
            "Ángulo incidencia: 40.0°\n",
            "Ángulo reflejado: 40.0°\n",
            " \n",
            "Ángulo crítico Rayo azul: 63.7°\n",
            "Angulo brewster: No aplica\n",
            "Ángulo transmitido Rayo azul: 45.8°\n",
            "Coeficiente de Reflexión Rayo azul: 0.01%\n",
            "Coeficiente de Transmisión Rayo azul: 99.99%\n",
            " \n",
            "Ángulo crítico Rayo rojo: 74.9°\n",
            "Angulo brewster: No aplica\n",
            "Ángulo transmitido Rayo rojo: 41.7°\n",
            "Coeficiente de Reflexión Rayo rojo: 0.00%\n",
            "Coeficiente de Transmisión Rayo rojo: 100.00%\n"
          ],
          "name": "stdout"
        },
        {
          "output_type": "display_data",
          "data": {
            "image/png": "[encoded data removed]",
            "text/plain": [
              "<Figure size 504x504 with 1 Axes>"
            ]
          },
          "metadata": {
            "tags": [],
            "needs_background": "light"
          }
        }
      ]
    },
    {
      "cell_type": "markdown",
      "metadata": {
        "id": "VbMpwnlCvhkQ"
      },
      "source": [
        "#### 3.Diseño de un demultiplexor WDM empleando materiales dispersivos"
      ]
    },
    {
      "cell_type": "code",
      "metadata": {
        "id": "uQSp8U7Nvy59",
        "cellView": "form"
      },
      "source": [
        "Material = \"N-SF5\"  #@param ['N-BK7', 'N-SF5']"
      ],
      "execution_count": 142,
      "outputs": []
    },
    {
      "cell_type": "code",
      "metadata": {
        "id": "v94DJzreKUFM",
        "outputId": "2dd48d24-3655-438c-f283-fced120651b6",
        "colab": {
          "base_uri": "https://localhost:8080/",
          "height": 969
        }
      },
      "source": [
        "import matplotlib.patches as mpatches\n",
        "import matplotlib.pyplot as plt\n",
        "import numpy as np\n",
        "\n",
        "lamda1=0.37/1e6\n",
        "lamda2=2.5/1e6\n",
        "\n",
        "ai=(20*np.pi)/180\n",
        "arfx=ai\n",
        "n1=1\n",
        "if (Material==\"N-BK7\"):\n",
        "  n21=1.5354\n",
        "  n22=1.4860\n",
        "  alpha1 = (0.0093076/1e-2)*4.34\n",
        "  alpha2 = (0.40866/1e-2)*4.34\n",
        "\n",
        "elif (Material==\"N-SF5\"):\n",
        "  n21=1.7287\n",
        "  n22=1.6260\n",
        "  alpha1 = (1.2875/1e-2)*4.34\n",
        "  alpha2 = (0.27726/1e-2)*4.34\n",
        "\n",
        "if (n1>n21):\n",
        "  ang_critico1=np.arcsin(n21/n1)\n",
        "  ac_text1 = 'Ángulo crítico Rayo azul: {:.1f}°'.format(ang_critico1*180/np.pi)\n",
        "  if (ai>ang_critico1):\n",
        "    at1=np.pi/2\n",
        "    angcolor1='white'\n",
        "    at_text1 = 'Ángulo transmitido Rayo azul: No aplica'\n",
        "    yr1=0\n",
        "    xr1=0\n",
        "  else:\n",
        "    at1=np.arcsin((n1*np.sin(ai))/n21)\n",
        "    angcolor1='blue'\n",
        "    at_text1 = 'Ángulo transmitido Rayo azul: {:.1f}°'.format(at1*180/np.pi)\n",
        "    yr1 = np.sin(-np.pi/2+at1)\n",
        "    xr1 = np.cos(-np.pi/2+at1)    \n",
        "\n",
        "elif (n1<=n21):\n",
        "  at1 = np.arcsin((n1*np.sin(ai))/n21)\n",
        "  yr1 = np.sin(-np.pi/2+at1)\n",
        "  xr1 = np.cos(-np.pi/2+at1)\n",
        "  angcolor1='blue'\n",
        "  at_text1 = 'Ángulo transmitido Rayo azul: {:.1f}°'.format(at1*180/np.pi)\n",
        "  ac_text1 = 'Ángulo crítico Rayo azul: No aplica'\n",
        "\n",
        "if (n1>n22):\n",
        "  ang_critico2=np.arcsin(n22/n1)\n",
        "  ac_text2 = 'Ángulo crítico Rayo rojo: {:.1f}°'.format(ang_critico2*180/np.pi)\n",
        "  if (ai>ang_critico2):\n",
        "    at2=np.pi/2\n",
        "    angcolor2='white'\n",
        "    at_text2 = 'Ángulo transmitido Rayo rojo: No aplica'\n",
        "    yr2=0\n",
        "    xr2=0\n",
        "  else:\n",
        "    at2=np.arcsin((n1*np.sin(ai))/n22)\n",
        "    angcolor2='red'\n",
        "    at_text2 = 'Ángulo transmitido Rayo rojo: {:.1f}°'.format(at2*180/np.pi)\n",
        "    yr2 = np.sin(-np.pi/2+at2)\n",
        "    xr2 = np.cos(-np.pi/2+at2)    \n",
        "\n",
        "elif (n1<=n22):\n",
        "  at2 = np.arcsin((n1*np.sin(ai))/n22)\n",
        "  yr2 = np.sin(-np.pi/2+at2)\n",
        "  xr2 = np.cos(-np.pi/2+at2)\n",
        "  angcolor2='red'\n",
        "  at_text2 = 'Ángulo transmitido Rayo rojo: {:.1f}°'.format(at2*180/np.pi)\n",
        "  ac_text2 = 'Ángulo crítico Rayo rojo: No aplica'\n",
        "\n",
        "yi1 = np.sin(np.pi/2+ai)\n",
        "xi1 = np.cos(np.pi/2+ai)\n",
        "yrfx1 = np.sin(np.pi/2-arfx)\n",
        "xrfx1 = np.cos(np.pi/2-arfx)\n",
        "\n",
        "yi2 = np.sin(np.pi/2+ai)\n",
        "xi2 = np.cos(np.pi/2+ai)\n",
        "yrfx2 = np.sin(np.pi/2-arfx)\n",
        "xrfx2 = np.cos(np.pi/2-arfx)\n",
        "\n",
        "rtm1=(n21*np.cos(ai)-n1*np.cos(at1))/(n21*np.cos(ai)+n1*np.cos(at1))\n",
        "Rtm1=(np.abs(rtm1))**2\n",
        "Ttm1=1-Rtm1\n",
        "\n",
        "rtm2=(n22*np.cos(ai)-n1*np.cos(at2))/(n22*np.cos(ai)+n1*np.cos(at2))\n",
        "Rtm2=(np.abs(rtm2))**2\n",
        "Ttm2=1-Rtm2\n",
        "\n",
        "R1='Coeficiente de Reflexión Rayo azul: {:.2f}%'.format(Rtm1*100)\n",
        "T1='Coeficiente de Transmisión Rayo azul: {:.2f}%'.format(Ttm1*100)\n",
        "R2='Coeficiente de Reflexión Rayo rojo: {:.2f}%'.format(Rtm2*100)\n",
        "T2='Coeficiente de Transmisión Rayo rojo: {:.2f}%'.format(Ttm2*100)\n",
        "ar_text = 'Ángulo reflejado: {:.1f}°'.format(arfx*180/np.pi)\n",
        "ai_text = 'Ángulo incidencia: {:.1f}°'.format(ai*180/np.pi)\n",
        "tit_text =ai_text +'\\n'+ar_text+'\\n'+' '+'\\n'+ac_text1 +'\\n'+at_text1+'\\n'+R1+'\\n'+T1+'\\n'+' '+'\\n'+ac_text2+'\\n'+at_text2+'\\n'+R2+'\\n'+T2\n",
        "print(tit_text)\n",
        "fig, ax = plt.subplots(figsize=(6,12))\n",
        "\n",
        "material=mpatches.Rectangle((-1.3, -5),2.6,5,facecolor = 'blue', alpha=0.2)\n",
        "wed_semi = mpatches.Wedge((0, 0), 0.6, 90, (ai*(180/np.pi)+90), color='orange', alpha=0.6)\n",
        "wed_cri1 = mpatches.Wedge((0, 0), 0.5, 270, (at1*(180/np.pi)+270), color=angcolor1, alpha=0.5)\n",
        "wed_cri2 = mpatches.Wedge((0, 0), 0.6, 270, (at2*(180/np.pi)+270), color=angcolor2, alpha=0.6)\n",
        "wed_semr = mpatches.Wedge((0, 0), 0.5, (90-arfx*(180/np.pi)),90, color='red', alpha=0.4)\n",
        "ax.add_patch(wed_semi)\n",
        "ax.add_patch(wed_cri1)\n",
        "ax.add_patch(wed_cri2)\n",
        "ax.add_patch(wed_semr)\n",
        "ax.add_patch(material)\n",
        "\n",
        "ax.quiver([xi1-0.03], [yi1],[-xi1],[-yi1], angles='xy', scale_units='xy', scale=1, color='b')\n",
        "ax.quiver([0], [0],[(5/np.cos(at1))*xr1],[(5/np.cos(at1))*yr1], angles='xy', scale_units='xy', scale=1, color='b')\n",
        "ax.quiver([0-0.03], [0],[xrfx1],[yrfx1], angles='xy', scale_units='xy', scale=1, color='b')\n",
        "ax.quiver([xi2], [yi2],[-xi2],[-yi2], angles='xy', scale_units='xy', scale=1, color='r')\n",
        "ax.quiver([0], [0],[(5/np.cos(at2))*xr2],[(5/np.cos(at2))*yr2], angles='xy', scale_units='xy', scale=1, color='r')\n",
        "ax.quiver([0], [0],[xrfx2],[yrfx2], angles='xy', scale_units='xy', scale=1, color='r')\n",
        "ax.plot([-1.5,1.5],[0,0],'k')\n",
        "ax.plot([0,0],[1.2,-5.2],'k--')\n",
        "ax.axis([-1.5,1.5,-5.2,1.2])\n",
        "\n",
        "ax.axis('off')\n",
        "fig.show()\n",
        "\n",
        "separacion=5*np.tan(at2)-5*np.tan(at1)\n",
        "print('\\n'+'Separación: {:.4f} nm'.format(separacion*1e-3*1e9))\n",
        "print('Atenuación Rayo azul: {:.4f} dB'.format(alpha1*5*1e-3*(1/np.cos(at1))))\n",
        "print('Atenuación Rayo rojo: {:.4f} dB'.format(alpha2*5*1e-3*(1/np.cos(at2))))\n",
        "db=alpha1*5*1e-3*(1/np.cos(at1))\n",
        "print(str(10**(db/10))+' W')"
      ],
      "execution_count": 148,
      "outputs": [
        {
          "output_type": "stream",
          "text": [
            "Ángulo incidencia: 20.0°\n",
            "Ángulo reflejado: 20.0°\n",
            " \n",
            "Ángulo crítico Rayo azul: No aplica\n",
            "Ángulo transmitido Rayo azul: 11.4°\n",
            "Coeficiente de Reflexión Rayo azul: 6.12%\n",
            "Coeficiente de Transmisión Rayo azul: 93.88%\n",
            " \n",
            "Ángulo crítico Rayo rojo: No aplica\n",
            "Ángulo transmitido Rayo rojo: 12.1°\n",
            "Coeficiente de Reflexión Rayo rojo: 4.82%\n",
            "Coeficiente de Transmisión Rayo rojo: 95.18%\n",
            "\n",
            "Separación: 66600.9032 nm\n",
            "Atenuación Rayo azul: 2.8502 dB\n",
            "Atenuación Rayo rojo: 0.6154 dB\n",
            "1.9276208475766854 W\n"
          ],
          "name": "stdout"
        },
        {
          "output_type": "display_data",
          "data": {
            "image/png": "[encoded data removed]",
            "text/plain": [
              "<Figure size 432x864 with 1 Axes>"
            ]
          },
          "metadata": {
            "tags": [],
            "needs_background": "light"
          }
        }
      ]
    },
    {
      "cell_type": "markdown",
      "metadata": {
        "id": "7RJobcQjBqQv"
      },
      "source": [
        "**¿Qué criterio empleará para seleccionar el material?**\n",
        "\n",
        "* Con el material N-BK7 se presenta menos atenuación, pero la distancia en la que llegan ambos rayos al otro extremo del material son muy cercanas entre sí, haciendo muy complejo el proceso de demultiplexación.\n",
        "* Con el material N-SF5 se presenta más atenuación, pero la distancia en la que llegan ambos rayos al otro extremo del material son más lejanas entre sí, en consecuencia es más viable el proceso de demultiplexación.\n",
        "* **El material que seleccionaría es el N-SF5 por ser más viable al momento de crear el demultiplexor, además el problema de la atenuación se puede contrarrestar agregándole potencia, solo la cantidad necesaria, ya que, el material es no lineal.**"
      ]
    }
  ]
}